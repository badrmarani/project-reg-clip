{
 "cells": [
  {
   "cell_type": "code",
   "execution_count": 1,
   "metadata": {},
   "outputs": [],
   "source": [
    "import sys\n",
    "sys.path.insert(0, \"../\")"
   ]
  },
  {
   "cell_type": "code",
   "execution_count": 2,
   "metadata": {},
   "outputs": [],
   "source": [
    "import torch\n",
    "from torch import nn\n",
    "from torch.utils.data import DataLoader\n",
    "import pandas as pd\n",
    "import clip\n",
    "import os\n",
    "from PIL import Image\n",
    "import numpy as np\n",
    "from skimage import io\n",
    "\n",
    "from src.datasets.celeba import CelebADataset\n",
    "from src.datasets.utils import stratified_sampler\n",
    "from src.utils import extract_keywords, is_keyword_in_caption"
   ]
  },
  {
   "cell_type": "code",
   "execution_count": 3,
   "metadata": {},
   "outputs": [],
   "source": [
    "def nonzero(tensor: torch.Tensor) -> torch.Tensor:\n",
    "    return torch.nonzero(tensor).squeeze(dim=-1)"
   ]
  },
  {
   "cell_type": "code",
   "execution_count": 4,
   "metadata": {},
   "outputs": [],
   "source": [
    "use_cuda = torch.cuda.is_available()\n",
    "device = \"cuda\" if use_cuda else \"cpu\""
   ]
  },
  {
   "cell_type": "code",
   "execution_count": 5,
   "metadata": {},
   "outputs": [],
   "source": [
    "train_dataset = CelebADataset(\n",
    "    \"../../datasets/celeba/\",\n",
    "    \"Male\",\n",
    "    0,\n",
    "    use_image_captions=True,\n",
    "    df_captions_dir=\"../checkpoints/list_captions_celeba.csv\",\n",
    ")\n",
    "shuffle = False\n",
    "sampler = stratified_sampler(train_dataset)\n",
    "train_loader = DataLoader(\n",
    "    train_dataset,\n",
    "    batch_size=128,\n",
    "    num_workers=2,\n",
    "    pin_memory=use_cuda,\n",
    "    shuffle=shuffle,\n",
    "    sampler=sampler,\n",
    ")"
   ]
  },
  {
   "cell_type": "code",
   "execution_count": 6,
   "metadata": {},
   "outputs": [],
   "source": [
    "for batch in train_loader:\n",
    "    filename = batch.pop(\"filename\")\n",
    "    caption = batch.pop(\"caption\")\n",
    "    batch = {k: v.to(device) for k, v in batch.items()}\n",
    "    x = batch[\"image\"]\n",
    "    g = batch[\"group\"]\n",
    "    y_true = batch[\"label\"].float()\n",
    "    if y_true.ndim < 2:\n",
    "        y_true.unsqueeze_(1)\n",
    "        \n",
    "    y_pred = torch.randint_like(y_true, 0, 2)\n",
    "    break"
   ]
  },
  {
   "cell_type": "code",
   "execution_count": 7,
   "metadata": {},
   "outputs": [],
   "source": [
    "batch_size = y_true.size(0)\n",
    "\n",
    "y_pred = y_pred.view(batch_size)\n",
    "y_true = y_true.view(batch_size)\n",
    "groups = g.view(batch_size)\n",
    "\n",
    "idx = torch.arange(0, batch_size, device=device)\n",
    "a = torch.stack((y_true, y_pred, groups, idx), dim=1)\n",
    "\n",
    "is_correct = a[:, 0] == a[:, 1]"
   ]
  },
  {
   "cell_type": "code",
   "execution_count": 9,
   "metadata": {},
   "outputs": [
    {
     "data": {
      "text/plain": [
       "torch.Size([128])"
      ]
     },
     "execution_count": 9,
     "metadata": {},
     "output_type": "execute_result"
    },
    {
     "ename": "",
     "evalue": "",
     "output_type": "error",
     "traceback": [
      "\u001b[1;31mThe Kernel crashed while executing code in the the current cell or a previous cell. Please review the code in the cell(s) to identify a possible cause of the failure. Click <a href='https://aka.ms/vscodeJupyterKernelCrash'>here</a> for more info. View Jupyter <a href='command:jupyter.viewOutput'>log</a> for further details."
     ]
    }
   ],
   "source": [
    "is_correct.size()"
   ]
  },
  {
   "cell_type": "code",
   "execution_count": 22,
   "metadata": {},
   "outputs": [],
   "source": [
    "class CLIPLoss(nn.Module):\n",
    "    def __init__(\n",
    "        self,\n",
    "        dataset_root_dir: str,\n",
    "        normalize: bool = True,\n",
    "        device=\"cuda\" if torch.cuda.is_available() else \"cpu\",\n",
    "    ):\n",
    "        super().__init__()\n",
    "        self.dataset_root_dir = dataset_root_dir\n",
    "        self.normalize = normalize\n",
    "        self.device = device\n",
    "        self.model, self.preprocess = clip.load(\n",
    "            \"ViT-B/32\", device=self.device, jit=False\n",
    "        )\n",
    "        self.model.eval()\n",
    "\n",
    "    def clip_score(self, filenames, keywords):\n",
    "        filenames = [os.path.join(self.dataset_root_dir, f) for f in filenames]\n",
    "        images = torch.cat(\n",
    "            [self.preprocess(Image.open(f)).unsqueeze(0) for f in filenames]\n",
    "        ).to(device)\n",
    "        images_features = self.model.encode_image(images)\n",
    "\n",
    "        k = torch.cat([clip.tokenize(f\"a photo of a {k}\") for k in keywords]).to(device)\n",
    "        texts_features = self.model.encode_text(k)\n",
    "\n",
    "        images_features /= images_features.norm(dim=-1, keepdim=True)\n",
    "        texts_features /= texts_features.norm(dim=-1, keepdim=True)\n",
    "        similarity = 100.0 * images_features @ texts_features.T  # (bs, 20)\n",
    "        return similarity.mean(dim=0)\n",
    "\n",
    "    def forward_similarity(self, filenames_wrong, filenames_correct, keywords):\n",
    "        sim_wrong = self.clip_score(filenames_wrong, keywords)\n",
    "        sim_correct = self.clip_score(filenames_correct, keywords)\n",
    "        sim = sim_correct - sim_wrong\n",
    "\n",
    "        if self.normalize:\n",
    "            sim -= sim.min()\n",
    "            sim /= sim.max()\n",
    "        return sim\n",
    "\n",
    "    def forward(self, y_pred, y_true, groups, loss):\n",
    "        batch_size = y_true.size(0)\n",
    "\n",
    "        y_pred = y_pred.view(batch_size)\n",
    "        y_true = y_true.view(batch_size)\n",
    "        groups = groups.view(batch_size)\n",
    "\n",
    "        idx = torch.arange(0, batch_size, device=self.device)\n",
    "        a = torch.stack((y_true, y_pred, groups, idx), dim=1)\n",
    "\n",
    "        is_correct = a[:, 0] == a[:, 1]\n",
    "\n",
    "        correct = a[nonzero(is_correct == 1), :]\n",
    "        correct_class_0 = correct[nonzero(correct[:, 0] == 0), :]\n",
    "        correct_class_1 = correct[nonzero(correct[:, 0] == 1), :]\n",
    "\n",
    "        wrong = a[nonzero(is_correct == 0), :]\n",
    "        wrong_class_0 = wrong[nonzero(wrong[:, 0] == 0), :]\n",
    "        wrong_class_1 = wrong[nonzero(wrong[:, 0] == 1), :]\n",
    "\n",
    "        wrong_class_0_filenames = [\n",
    "            f for i, f in enumerate(filename) if i in wrong_class_0[:, -1]\n",
    "        ]\n",
    "        correct_class_0_filenames = [\n",
    "            f for i, f in enumerate(filename) if i in correct_class_0[:, -1]\n",
    "        ]\n",
    "\n",
    "        wrong_class_1_filenames = [\n",
    "            f for i, f in enumerate(filename) if i in wrong_class_1[:, -1]\n",
    "        ]\n",
    "        correct_class_1_filenames = [\n",
    "            f for i, f in enumerate(filename) if i in correct_class_1[:, -1]\n",
    "        ]\n",
    "\n",
    "        class_0_keywords = extract_keywords(\n",
    "            \" \".join([f for i, f in enumerate(caption) if i in wrong_class_0[:, -1]])\n",
    "        )\n",
    "        class_1_keywords = extract_keywords(\n",
    "            \" \".join([f for i, f in enumerate(caption) if i in wrong_class_1[:, -1]])\n",
    "        )\n",
    "\n",
    "        with torch.no_grad():\n",
    "            sim_class_0 = self.forward_similarity(\n",
    "                wrong_class_0_filenames, correct_class_0_filenames, class_0_keywords\n",
    "            )\n",
    "            sim_class_1 = self.forward_similarity(\n",
    "                wrong_class_1_filenames, correct_class_1_filenames, class_1_keywords\n",
    "            )\n",
    "\n",
    "        L = []\n",
    "        for sim_k, k in zip(sim_class_0, class_0_keywords):\n",
    "            for i, c in enumerate(caption):\n",
    "                if is_keyword_in_caption(c, k):\n",
    "                    # print(sim_k.cpu().item(), k, i)\n",
    "                    # L += [loss[i] * sim_k]\n",
    "                    loss[i] *= sim_k\n",
    "\n",
    "        for sim_k, k in zip(sim_class_1, class_1_keywords):\n",
    "            for i, c in enumerate(caption):\n",
    "                if is_keyword_in_caption(c, k):\n",
    "                    # print(sim_k.cpu().item(), k, i)\n",
    "                    # L += [loss[i] * sim_k]\n",
    "                    loss[i] *= sim_k\n",
    "        return loss"
   ]
  },
  {
   "cell_type": "code",
   "execution_count": 26,
   "metadata": {},
   "outputs": [],
   "source": [
    "loss_fn = nn.BCELoss(reduction=\"none\")\n",
    "loss = loss_fn(torch.rand(size=(y_true.size(0), 1), requires_grad=True, device=device), y_true)"
   ]
  },
  {
   "cell_type": "code",
   "execution_count": 28,
   "metadata": {},
   "outputs": [],
   "source": [
    "clip_loss_fn = CLIPLoss(\"../../datasets/celeba/img_align_celeba/\")\n",
    "loss = clip_loss_fn(y_pred, y_true, g, loss)"
   ]
  },
  {
   "cell_type": "code",
   "execution_count": 31,
   "metadata": {},
   "outputs": [],
   "source": [
    "loss.mean().backward()"
   ]
  },
  {
   "cell_type": "code",
   "execution_count": null,
   "metadata": {},
   "outputs": [],
   "source": [
    "import clip\n",
    "import torch\n",
    "import torchvision\n",
    "\n",
    "# model, preprocess = clip.load(\"ViT-B/32\", jit=False, device=\"cpu\")\n",
    "# data = torch.rand(1, 3, 224, 244, device=\"cpu\")\n",
    "# text = clip.tokenize(\"data\").to(device=\"cpu\")\n",
    "# trace = torch.jit.trace(model, (data, text))\n",
    "# model, preprocess = clip.load(\"ViT-B/32\", jit=True)\n",
    "# torch._C._jit_pass_inline(trace.graph)"
   ]
  },
  {
   "cell_type": "code",
   "execution_count": 12,
   "metadata": {},
   "outputs": [],
   "source": [
    "def _node_get(node: torch._C.Node, key: str):\n",
    "    \"\"\"Gets attributes of a node which is polymorphic over return type.\"\"\"\n",
    "    sel = node.kindOf(key)\n",
    "    return getattr(node, sel)(key)\n",
    "\n",
    "\n",
    "torch._C.Node.__getitem__ = _node_get\n",
    "model, preprocess = clip.load(\"ViT-B/32\", jit=True)"
   ]
  }
 ],
 "metadata": {
  "kernelspec": {
   "display_name": "badr",
   "language": "python",
   "name": "python3"
  },
  "language_info": {
   "codemirror_mode": {
    "name": "ipython",
    "version": 3
   },
   "file_extension": ".py",
   "mimetype": "text/x-python",
   "name": "python",
   "nbconvert_exporter": "python",
   "pygments_lexer": "ipython3",
   "version": "3.10.13"
  }
 },
 "nbformat": 4,
 "nbformat_minor": 2
}
