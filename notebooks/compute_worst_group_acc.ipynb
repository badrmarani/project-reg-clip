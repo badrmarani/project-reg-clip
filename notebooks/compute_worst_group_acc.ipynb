{
 "cells": [
  {
   "cell_type": "code",
   "execution_count": 1,
   "metadata": {},
   "outputs": [],
   "source": [
    "import sys\n",
    "sys.path.insert(0, \"../\")"
   ]
  },
  {
   "cell_type": "code",
   "execution_count": 2,
   "metadata": {},
   "outputs": [],
   "source": [
    "import torch\n",
    "import pandas as pd\n",
    "from tqdm.notebook import tqdm\n",
    "\n",
    "from src.models.resnet import ResNet\n",
    "from src.utils import update_state_dict\n",
    "from src.datasets.loader import get_loaders\n",
    "from src.datasets import CelebA\n",
    "from src.metrics import WorstGroupAccuracy\n",
    "\n",
    "device = torch.device(\"cuda\" if torch.cuda.is_available() else \"cpu\")\n"
   ]
  },
  {
   "cell_type": "code",
   "execution_count": 3,
   "metadata": {},
   "outputs": [],
   "source": [
    "ckpt = torch.load(\"../checkpoints/resnet18_celeba_Male_0.0/last.ckpt\")\n",
    "state_dict = update_state_dict(ckpt[\"state_dict\"])\n",
    "\n",
    "model = ResNet(\"resnet18\", 1, False)\n",
    "model.load_state_dict(state_dict)\n",
    "model = model.to(device=device)"
   ]
  },
  {
   "cell_type": "code",
   "execution_count": 4,
   "metadata": {},
   "outputs": [],
   "source": [
    "train_dataset = CelebA(\"../../datasets/celeba\", \"Male\", 0)\n",
    "train_loader = get_loaders(\n",
    "    train_dataset,\n",
    "    batch_size=128,\n",
    "    num_workers=4,\n",
    "    pin_memory=True,\n",
    ")\n",
    "\n",
    "\n",
    "valid_dataset = CelebA(\"../../datasets/celeba\", \"Male\", 1)\n",
    "valid_loader = get_loaders(\n",
    "    valid_dataset,\n",
    "    batch_size=128,\n",
    "    num_workers=4,\n",
    "    pin_memory=True,\n",
    ")\n",
    "\n",
    "\n",
    "test_dataset = CelebA(\"../../datasets/celeba\", \"Male\", 2)\n",
    "test_loader = get_loaders(\n",
    "    test_dataset,\n",
    "    batch_size=128,\n",
    "    num_workers=4,\n",
    "    pin_memory=True,\n",
    ")\n"
   ]
  },
  {
   "cell_type": "code",
   "execution_count": 5,
   "metadata": {},
   "outputs": [],
   "source": [
    "@torch.no_grad()\n",
    "def validate(loader):\n",
    "    wg_accuracy_metric = WorstGroupAccuracy()\n",
    "\n",
    "    model.eval()\n",
    "    for batch in tqdm(loader):\n",
    "        filename = batch.pop(\"filename\")\n",
    "        batch = {k: v.to(device=device) for k, v in batch.items()}\n",
    "        logits = model(batch[\"image\"].to(device=device))\n",
    "        y_true = batch[\"label\"].float()\n",
    "        if y_true.ndim < 2:\n",
    "            y_true.unsqueeze_(1)\n",
    "\n",
    "        if logits.size(1) == 2:\n",
    "            y_pred = torch.softmax(logits, dim=1)\n",
    "            y_pred = torch.argmax(y_pred, dim=1)\n",
    "        else:\n",
    "            y_pred = (torch.sigmoid(logits) >= 0.5).float()\n",
    "\n",
    "        g = batch[\"group\"]\n",
    "        wg_accuracy_metric.update(y_pred, y_true, g)\n",
    "    wg, acc_groups = wg_accuracy_metric.compute()\n",
    "    return wg, acc_groups"
   ]
  },
  {
   "cell_type": "code",
   "execution_count": 6,
   "metadata": {},
   "outputs": [
    {
     "name": "stdout",
     "output_type": "stream",
     "text": [
      "Training set\n"
     ]
    },
    {
     "data": {
      "application/vnd.jupyter.widget-view+json": {
       "model_id": "cf3fb07b3c0a407c99174bbbdb70b9d2",
       "version_major": 2,
       "version_minor": 0
      },
      "text/plain": [
       "  0%|          | 0/1272 [00:00<?, ?it/s]"
      ]
     },
     "metadata": {},
     "output_type": "display_data"
    },
    {
     "name": "stdout",
     "output_type": "stream",
     "text": [
      "Validation set\n"
     ]
    },
    {
     "data": {
      "application/vnd.jupyter.widget-view+json": {
       "model_id": "cbc67e7788ad4f3085d746b8cbf2006f",
       "version_major": 2,
       "version_minor": 0
      },
      "text/plain": [
       "  0%|          | 0/156 [00:00<?, ?it/s]"
      ]
     },
     "metadata": {},
     "output_type": "display_data"
    },
    {
     "name": "stdout",
     "output_type": "stream",
     "text": [
      "Test set\n"
     ]
    },
    {
     "data": {
      "application/vnd.jupyter.widget-view+json": {
       "model_id": "93738e38656b4ef2b1d35779726c721c",
       "version_major": 2,
       "version_minor": 0
      },
      "text/plain": [
       "  0%|          | 0/156 [00:00<?, ?it/s]"
      ]
     },
     "metadata": {},
     "output_type": "display_data"
    }
   ],
   "source": [
    "model.eval()\n",
    "\n",
    "print(\"Training set\")\n",
    "train_wg, train_acc_groups = validate(train_loader)\n",
    "\n",
    "print(\"Validation set\")\n",
    "valid_wg, valid_acc_groups = validate(valid_loader)\n",
    "\n",
    "print(\"Test set\")\n",
    "test_wg, test_acc_groups = validate(test_loader)"
   ]
  },
  {
   "cell_type": "code",
   "execution_count": 12,
   "metadata": {},
   "outputs": [
    {
     "data": {
      "text/plain": [
       "<Axes: title={'center': 'Worst-group Accuracy (on test set)'}, ylabel='Accuracy'>"
      ]
     },
     "execution_count": 12,
     "metadata": {},
     "output_type": "execute_result"
    },
    {
     "data": {
      "image/png": "[encoded data removed]",
      "text/plain": [
       "<Figure size 640x480 with 1 Axes>"
      ]
     },
     "metadata": {},
     "output_type": "display_data"
    },
    {
     "ename": "",
     "evalue": "",
     "output_type": "error",
     "traceback": [
      "\u001b[1;31mThe Kernel crashed while executing code in the the current cell or a previous cell. Please review the code in the cell(s) to identify a possible cause of the failure. Click <a href='https://aka.ms/vscodeJupyterKernelCrash'>here</a> for more info. View Jupyter <a href='command:jupyter.viewOutput'>log</a> for further details."
     ]
    }
   ],
   "source": [
    "df = pd.DataFrame(\n",
    "    {\n",
    "        # \"Training\": train_acc_groups.values(),\n",
    "        # \"Validation\": valid_acc_groups.values(),\n",
    "        \"ERM\": test_acc_groups.values(),\n",
    "        \"ERM (label)\": test_acc_groups.values(),\n",
    "    },\n",
    "    index=[f\"Group {i}\" for i in range(4)],\n",
    ")\n",
    "df.plot(\n",
    "    kind=\"bar\", rot=0, title=\"Worst-group Accuracy (on test set)\", ylabel=\"Accuracy\"\n",
    ")"
   ]
  }
 ],
 "metadata": {
  "kernelspec": {
   "display_name": "Python 3",
   "language": "python",
   "name": "python3"
  },
  "language_info": {
   "codemirror_mode": {
    "name": "ipython",
    "version": 3
   },
   "file_extension": ".py",
   "mimetype": "text/x-python",
   "name": "python",
   "nbconvert_exporter": "python",
   "pygments_lexer": "ipython3",
   "version": "3.10.13"
  }
 },
 "nbformat": 4,
 "nbformat_minor": 2
}
